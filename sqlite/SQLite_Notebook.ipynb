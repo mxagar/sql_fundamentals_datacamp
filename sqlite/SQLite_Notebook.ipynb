{
 "cells": [
  {
   "attachments": {},
   "cell_type": "markdown",
   "metadata": {},
   "source": [
    "# SQLite and SQLAlchemy Guide\n",
    "\n",
    "This notebook shows how to interact with SQLite databases using SQLAlchemy.\n",
    "\n",
    "Original tutorial source: [SQLAlchemy Tutorial With Examples](https://www.datacamp.com/tutorial/sqlalchemy-tutorial-examples).\n",
    "\n",
    "See also the SQL guide, in particular the section about SQLite and SQAlchemy: [`../SQL_Guide.md`](../SQL_Guide.md).\n",
    "\n",
    "Three datasets are used, which are colocated.\n",
    "\n",
    "- [European Football Database @ Kaggle](https://www.kaggle.com/datasets/groleo/european-football-database?select=european_database.sqlite): [`./european_database.sqlite`](./european_database.sqlite)\n",
    "- [Stock Exchange Data @ Datacamp](https://www.datacamp.com/workspace/datasets/dataset-python-stock-exchange): [`./stock.sqlite`](./stock.sqlite)\n",
    "- Custom created students dataset: [`./students.sqlite`](./students.sqlite)\n",
    "\n",
    "Table of contents:\n",
    "\n",
    "- [1. Basics](#1-basics)\n",
    "  - [1.1 Connect to or Open Database](#11-connect-to-or-open-database)\n",
    "  - [1.2. Access to Tables and Columns](#12-access-to-tables-and-columns)\n",
    "  - [1.3 Queries](#13-queries)\n",
    "- [2. Creating a New Database and Working with It](#2-creating-a-new-database-and-working-with-it)\n",
    "  - [2.1 Create a New Database](#21-create-a-new-database)\n",
    "  - [2.2 Inserting Rows](#22-inserting-rows)\n",
    "  - [2.3 Queries: Examples with SQL and with SQLAlchemy](#23-queries-examples-with-sql-and-with-sqlalchemy)\n",
    "  - [2.4 Output to a Pandas Dataframe and CSV](#24-output-to-a-pandas-dataframe-and-csv)\n",
    "  - [2.5 Input from CSV and Pandas](#25-input-from-csv-and-pandas)\n",
    "- [3. SQL Table Management](#3-sql-table-management)\n",
    "  - [3.1 Update and Delete Rows](#31-update-and-delete-rows)\n",
    "  - [3.2 Dropping Tables](#32-dropping-tables)\n",
    "  - [3.3 Complex Queries with SQLAlchemy: Joining Tables and Filtering](#33-complex-queries-with-sqlalchemy-joining-tables-and-filtering)"
   ]
  },
  {
   "cell_type": "code",
   "execution_count": 108,
   "metadata": {},
   "outputs": [],
   "source": [
    "import sqlalchemy as db"
   ]
  },
  {
   "cell_type": "code",
   "execution_count": 109,
   "metadata": {},
   "outputs": [
    {
     "data": {
      "text/plain": [
       "'1.4.39'"
      ]
     },
     "execution_count": 109,
     "metadata": {},
     "output_type": "execute_result"
    }
   ],
   "source": [
    "db.__version__"
   ]
  },
  {
   "attachments": {},
   "cell_type": "markdown",
   "metadata": {},
   "source": [
    "## 1. Basics"
   ]
  },
  {
   "attachments": {},
   "cell_type": "markdown",
   "metadata": {},
   "source": [
    "### 1.1. Connect to or Open Database"
   ]
  },
  {
   "cell_type": "code",
   "execution_count": 63,
   "metadata": {},
   "outputs": [],
   "source": [
    "# Download the sqlite database from the link above\n",
    "# We open/connect to the database file\n",
    "# The database has 2 tables: divisions & matchs\n",
    "engine = db.create_engine(\"sqlite:///european_database.sqlite\")\n",
    "conn = engine.connect() "
   ]
  },
  {
   "attachments": {},
   "cell_type": "markdown",
   "metadata": {},
   "source": [
    "### 1.2. Access to Tables and Columns"
   ]
  },
  {
   "cell_type": "code",
   "execution_count": 34,
   "metadata": {},
   "outputs": [
    {
     "name": "stdout",
     "output_type": "stream",
     "text": [
      "['divisions', 'matchs']\n"
     ]
    }
   ],
   "source": [
    "# Inspect which tables we have in the db\n",
    "insp = db.inspect(engine)\n",
    "table_names = insp.get_table_names()\n",
    "print(table_names)"
   ]
  },
  {
   "cell_type": "code",
   "execution_count": 61,
   "metadata": {},
   "outputs": [
    {
     "name": "stdout",
     "output_type": "stream",
     "text": [
      "Raw 'divisions' table structure:\n",
      "Table('divisions', MetaData(), Column('division', TEXT(), table=<divisions>), Column('name', TEXT(), table=<divisions>), Column('country', TEXT(), table=<divisions>), schema=None)\n",
      "\n",
      "Table 'divisions' columns:\n",
      "['division', 'name', 'country']\n",
      "\n",
      "Table 'divisions' column and type:\n",
      "- division, TEXT\n",
      "- name, TEXT\n",
      "- country, TEXT\n",
      "\n",
      "Complete database:\n",
      "- Table: divisions\n",
      "  - division, TEXT\n",
      "  - name, TEXT\n",
      "  - country, TEXT\n",
      "- Table: matchs\n",
      "  - Div, TEXT\n",
      "  - Date, DATE\n",
      "  - HomeTeam, TEXT\n",
      "  - AwayTeam, TEXT\n",
      "  - FTHG, REAL\n",
      "  - FTAG, REAL\n",
      "  - FTR, TEXT\n",
      "  - season, INTEGER\n"
     ]
    }
   ],
   "source": [
    "# Extract the metadata\n",
    "metadata = db.MetaData()\n",
    "\n",
    "# Create table object: we need to create it to further access it\n",
    "# We use the autoload option because we don't know\n",
    "# how the table was created\n",
    "division = db.Table('divisions',\n",
    "                    metadata,\n",
    "                    autoload=True,\n",
    "                    autoload_with=engine)\n",
    "\n",
    "# Show columns \n",
    "#metadata.tables['divisions']\n",
    "print(\"Raw 'divisions' table structure:\")\n",
    "print(repr(metadata.tables['divisions']))\n",
    "print(\"\\nTable 'divisions' columns:\")\n",
    "print(division.columns.keys())\n",
    "print(\"\\nTable 'divisions' column and type:\")\n",
    "columns = division.columns\n",
    "for c in columns:\n",
    "    print(f\"- {c.name}, {c.type}\")\n",
    "\n",
    "# Crete the object of the other table\n",
    "matchs = db.Table('matchs',\n",
    "                    metadata,\n",
    "                    autoload=True,\n",
    "                    autoload_with=engine)\n",
    "\n",
    "# Another way of displaying data:\n",
    "print(\"\\nComplete database:\")\n",
    "tables = (division, matchs)\n",
    "for table in tables:\n",
    "    columns = table.columns\n",
    "    print(f\"- Table: {table.fullname}\")\n",
    "    for c in columns:\n",
    "        print(f\"  - {c.name}, {c.type}\")"
   ]
  },
  {
   "attachments": {},
   "cell_type": "markdown",
   "metadata": {},
   "source": [
    "### 1.3. Queries"
   ]
  },
  {
   "cell_type": "code",
   "execution_count": 44,
   "metadata": {},
   "outputs": [],
   "source": [
    "# Option 1: SQLAlchemy Queries\n",
    "# Create a query object: it's a SQL statement, but defined as a Python object\n",
    "# SELECT * FROM division\n",
    "query = division.select()"
   ]
  },
  {
   "cell_type": "code",
   "execution_count": 52,
   "metadata": {},
   "outputs": [
    {
     "name": "stdout",
     "output_type": "stream",
     "text": [
      "SELECT divisions.division, divisions.name, divisions.country \n",
      "FROM divisions\n"
     ]
    }
   ],
   "source": [
    "# We can print the query object and get the SQL statement\n",
    "print(query)"
   ]
  },
  {
   "cell_type": "code",
   "execution_count": 55,
   "metadata": {},
   "outputs": [
    {
     "name": "stdout",
     "output_type": "stream",
     "text": [
      "SELECT divisions.name \n",
      "FROM divisions\n"
     ]
    }
   ],
   "source": [
    "# Another way of creating query objects: via db/sqlalchemy\n",
    "query_ = db.select([division.columns.name])\n",
    "print(query_)"
   ]
  },
  {
   "cell_type": "code",
   "execution_count": 60,
   "metadata": {},
   "outputs": [
    {
     "name": "stdout",
     "output_type": "stream",
     "text": [
      "\n",
      "Five results: \n",
      "[('B1', 'Division 1A', 'Belgium'), ('D1', 'Bundesliga', 'Deutschland'), ('D2', '2. Bundesliga', 'Deutschland'), ('E0', 'Premier League', 'England'), ('E1', 'EFL Championship', 'England')]\n",
      "\n",
      "Top result: \n",
      "('E2', 'EFL League One', 'England')\n",
      "\n",
      "All results: \n",
      "[('E3', 'EFL League Two', 'England'), ('EC', 'National League', 'England'), ('F1', 'Ligue 1', 'France'), ('F2', 'Ligue 2', 'France'), ('G1', 'Superleague', 'Greece'), ('I1', 'Seria A', 'Italy'), ('I2', 'Seria B', 'Italy'), ('N1', 'Eredivisie', 'Netherlands'), ('P1', 'Liga NOS', 'Portugal'), ('SC0', 'Scottish Premiership', 'Scotland'), ('SC1', 'Scottish Championship', 'Scotland'), ('SC2', 'Scottish League One', 'Scotland'), ('SP1', 'LaLiga', 'Spain'), ('SP2', 'LaLiga 2', 'Spain'), ('T1', 'Süper Lig', 'Turkey')]\n"
     ]
    }
   ],
   "source": [
    "# Execute query\n",
    "exe = conn.execute(query) # executing the query\n",
    "# Get results: list of tuples; each tuple is a row\n",
    "result = exe.fetchmany(5) # extracting top 5 results\n",
    "print(f\"\\nFive results: \\n{result}\")\n",
    "result = exe.fetchone() # extracting top result\n",
    "print(f\"\\nTop result: \\n{result}\")\n",
    "result = exe.fetchall() # extracting all results\n",
    "print(f\"\\nAll results: \\n{result}\")"
   ]
  },
  {
   "cell_type": "code",
   "execution_count": 48,
   "metadata": {},
   "outputs": [],
   "source": [
    "# Option 2: Simple SQL statements passed as strings\n",
    "# Another way of creating queries: SQL statements as text/string!\n",
    "query_text = \"\"\"SELECT divisions.division, divisions.name, divisions.country\n",
    "                FROM divisions\"\"\""
   ]
  },
  {
   "cell_type": "code",
   "execution_count": 64,
   "metadata": {},
   "outputs": [
    {
     "name": "stdout",
     "output_type": "stream",
     "text": [
      "[('B1', 'Division 1A', 'Belgium'), ('D1', 'Bundesliga', 'Deutschland'), ('D2', '2. Bundesliga', 'Deutschland'), ('E0', 'Premier League', 'England'), ('E1', 'EFL Championship', 'England')]\n"
     ]
    }
   ],
   "source": [
    "exe = conn.execute(query_text) # executing the query\n",
    "result = exe.fetchmany(5) # extracting top 5 results\n",
    "print(result)"
   ]
  },
  {
   "attachments": {},
   "cell_type": "markdown",
   "metadata": {},
   "source": [
    "## 2. Creating a New Database and Working with It"
   ]
  },
  {
   "attachments": {},
   "cell_type": "markdown",
   "metadata": {},
   "source": [
    "### 2.1 Create a New Database"
   ]
  },
  {
   "cell_type": "code",
   "execution_count": 85,
   "metadata": {},
   "outputs": [],
   "source": [
    "# A new database file will be created, if none exists\n",
    "# Creating and connecting is very similar\n",
    "engine = db.create_engine('sqlite:///students.sqlite')\n",
    "conn = engine.connect()\n",
    "metadata = db.MetaData()\n",
    "\n",
    "# Create a new table: Students\n",
    "# This is the Core SQLAlchemy API; there is also the ORM API\n",
    "# with which tables are created as classes.\n",
    "# Now, we don't use the autoload option as before, because are creating the table!\n",
    "# Note column arguments:\n",
    "# https://docs.sqlalchemy.org/en/20/core/metadata.html#sqlalchemy.schema.Column\n",
    "# - name\n",
    "# - type: https://docs.sqlalchemy.org/en/14/core/types.html\n",
    "#       Integer()\n",
    "#       String()\n",
    "#       Boolean()\n",
    "#       Date()\n",
    "#       Time()\n",
    "#       Numeric()\n",
    "#       LargeBinary() = BLOB, images, etc.\n",
    "#       PickleType() = PickleType builds upon the Binary type to apply Python’s pickle.dumps()\n",
    "#       ...\n",
    "# - kwargs: check docs\n",
    "#       primary_key\n",
    "#       nullable\n",
    "#       default\n",
    "#       ...\n",
    "# Autoincrement: if we add 'sqlite_autoincrement=True', the primary key increases\n",
    "# automatically, thus, we cannot insert its value.\n",
    "Student = db.Table('Student',\n",
    "                   metadata,\n",
    "                   db.Column('Id', db.Integer(), primary_key=True),\n",
    "                   db.Column('Name', db.String(255), nullable=False),\n",
    "                   db.Column('Major', db.String(255), default=\"Math\"),\n",
    "                   db.Column('Pass', db.Boolean(), default=True), sqlite_autoincrement=True\n",
    "                   )\n",
    "\n",
    "metadata.create_all(engine)"
   ]
  },
  {
   "attachments": {},
   "cell_type": "markdown",
   "metadata": {},
   "source": [
    "### 2.2 Inserting Rows"
   ]
  },
  {
   "cell_type": "code",
   "execution_count": 95,
   "metadata": {},
   "outputs": [
    {
     "name": "stdout",
     "output_type": "stream",
     "text": [
      "[(1, 'Matthew', 'English', True), (2, 'Matthew', 'English', True), (3, 'Matthew', 'English', True), (4, 'Matthew', 'English', True), (5, 'Matthew', 'English', True), (6, 'Matthew', 'English', True), (7, 'Matthew', 'English', True), (8, 'Matthew', 'English', True), (9, 'Matthew', 'English', True), (10, 'Matthew', 'English', True), (11, 'Matthew', 'English', True), (12, 'Matthew', 'English', True), (13, 'Matthew', 'English', True), (14, 'Matthew', 'English', True), (15, 'Matthew', 'English', True)]\n"
     ]
    }
   ],
   "source": [
    "# Insert one row\n",
    "# Note: if we added 'sqlite_autoincrement=True' in the table definition,\n",
    "# the primary key increases automatically, thus, we cannot insert its value.\n",
    "# If not, we can manually control the Id, but each inserted value\n",
    "# must be different!\n",
    "# WARNING: Every time we run this cell, a new entry/row is added!\n",
    "query = db.insert(Student).values(#Id=1,\n",
    "                                  Name='Matthew',\n",
    "                                  Major=\"English\",\n",
    "                                  Pass=True)\n",
    "result = conn.execute(query)\n",
    "\n",
    "# Check: fetch all rows\n",
    "output = conn.execute(Student.select()).fetchall()\n",
    "print(output)\n"
   ]
  },
  {
   "cell_type": "code",
   "execution_count": 97,
   "metadata": {},
   "outputs": [
    {
     "name": "stdout",
     "output_type": "stream",
     "text": [
      "[(1, 'Matthew', 'English', True), (2, 'Matthew', 'English', True), (3, 'Matthew', 'English', True), (4, 'Matthew', 'English', True), (5, 'Matthew', 'English', True), (6, 'Matthew', 'English', True), (7, 'Matthew', 'English', True), (8, 'Matthew', 'English', True), (9, 'Matthew', 'English', True), (10, 'Matthew', 'English', True), (11, 'Matthew', 'English', True), (12, 'Matthew', 'English', True), (13, 'Matthew', 'English', True), (14, 'Matthew', 'English', True), (15, 'Matthew', 'English', True), (16, 'Nisha', 'Science', False), (17, 'Natasha', 'Math', True), (18, 'Ben', 'English', False), (19, 'Nisha', 'Science', False), (20, 'Natasha', 'Math', True), (21, 'Ben', 'English', False)]\n"
     ]
    }
   ],
   "source": [
    "# Insert many\n",
    "# WARNING: Every time we run this cell, new entries/rows are added!\n",
    "query = db.insert(Student)\n",
    "#values_list = [{'Id':'2', 'Name':'Nisha', 'Major':\"Science\", 'Pass':False},\n",
    "#              {'Id':'3', 'Name':'Natasha', 'Major':\"Math\", 'Pass':True},\n",
    "#              {'Id':'4', 'Name':'Ben', 'Major':\"English\", 'Pass':False}]\n",
    "values_list = [{'Name':'Nisha', 'Major':\"Science\", 'Pass':False},\n",
    "              {'Name':'Natasha', 'Major':\"Math\", 'Pass':True},\n",
    "              {'Name':'Ben', 'Major':\"English\", 'Pass':False}]\n",
    "result = conn.execute(query,values_list)\n",
    "\n",
    "# Check: fetch all rows\n",
    "output = conn.execute(Student.select()).fetchall()\n",
    "print(output)"
   ]
  },
  {
   "attachments": {},
   "cell_type": "markdown",
   "metadata": {},
   "source": [
    "### 2.3 Queries: Examples with SQL and with SQLAlchemy"
   ]
  },
  {
   "cell_type": "code",
   "execution_count": 98,
   "metadata": {},
   "outputs": [
    {
     "name": "stdout",
     "output_type": "stream",
     "text": [
      "[(1, 'Matthew', 'English', 1), (2, 'Matthew', 'English', 1), (3, 'Matthew', 'English', 1), (4, 'Matthew', 'English', 1), (5, 'Matthew', 'English', 1), (6, 'Matthew', 'English', 1), (7, 'Matthew', 'English', 1), (8, 'Matthew', 'English', 1), (9, 'Matthew', 'English', 1), (10, 'Matthew', 'English', 1), (11, 'Matthew', 'English', 1), (12, 'Matthew', 'English', 1), (13, 'Matthew', 'English', 1), (14, 'Matthew', 'English', 1), (15, 'Matthew', 'English', 1), (16, 'Nisha', 'Science', 0), (17, 'Natasha', 'Math', 1), (18, 'Ben', 'English', 0), (19, 'Nisha', 'Science', 0), (20, 'Natasha', 'Math', 1), (21, 'Ben', 'English', 0)]\n"
     ]
    }
   ],
   "source": [
    "output = conn.execute(\"SELECT * FROM Student\")\n",
    "print(output.fetchall())"
   ]
  },
  {
   "cell_type": "code",
   "execution_count": 99,
   "metadata": {},
   "outputs": [
    {
     "name": "stdout",
     "output_type": "stream",
     "text": [
      "[('Matthew', 'English'), ('Matthew', 'English'), ('Matthew', 'English'), ('Matthew', 'English'), ('Matthew', 'English'), ('Matthew', 'English'), ('Matthew', 'English'), ('Matthew', 'English'), ('Matthew', 'English'), ('Matthew', 'English'), ('Matthew', 'English'), ('Matthew', 'English'), ('Matthew', 'English'), ('Matthew', 'English'), ('Matthew', 'English'), ('Natasha', 'Math'), ('Natasha', 'Math')]\n"
     ]
    }
   ],
   "source": [
    "output = conn.execute(\"SELECT Name, Major FROM Student WHERE Pass = True\")\n",
    "print(output.fetchall())"
   ]
  },
  {
   "cell_type": "code",
   "execution_count": 100,
   "metadata": {},
   "outputs": [
    {
     "name": "stdout",
     "output_type": "stream",
     "text": [
      "[(1, 'Matthew', 'English', True), (2, 'Matthew', 'English', True), (3, 'Matthew', 'English', True), (4, 'Matthew', 'English', True), (5, 'Matthew', 'English', True), (6, 'Matthew', 'English', True), (7, 'Matthew', 'English', True), (8, 'Matthew', 'English', True), (9, 'Matthew', 'English', True), (10, 'Matthew', 'English', True), (11, 'Matthew', 'English', True), (12, 'Matthew', 'English', True), (13, 'Matthew', 'English', True), (14, 'Matthew', 'English', True), (15, 'Matthew', 'English', True), (18, 'Ben', 'English', False), (21, 'Ben', 'English', False)]\n"
     ]
    }
   ],
   "source": [
    "# SQLAlchemy API: SELECT, WHERE\n",
    "query = Student.select().where(Student.columns.Major == 'English')\n",
    "output = conn.execute(query)\n",
    "print(output.fetchall())"
   ]
  },
  {
   "cell_type": "code",
   "execution_count": 101,
   "metadata": {},
   "outputs": [
    {
     "name": "stdout",
     "output_type": "stream",
     "text": [
      "[(18, 'Ben', 'English', False), (21, 'Ben', 'English', False)]\n"
     ]
    }
   ],
   "source": [
    "# SQLAlchemy API: SELECT, WHERE, AND\n",
    "query = Student.select().where(db.and_(Student.columns.Major == 'English',\n",
    "                                       Student.columns.Pass != True))\n",
    "output = conn.execute(query)\n",
    "print(output.fetchall())"
   ]
  },
  {
   "cell_type": "code",
   "execution_count": 103,
   "metadata": {},
   "outputs": [],
   "source": [
    "# More API examples\n",
    "# in                Student.select().where(Student.columns.Major.in_(['English','Math']))\n",
    "# and, or, not      Student.select().where(db.or_(Student.columns.Major == 'English', Student.columns.Pass = True))\n",
    "# order by          Student.select().order_by(db.desc(Student.columns.Name))\n",
    "# limit             Student.select().limit(3)\n",
    "# sum, avg, count   db.select([db.func.sum(Student.columns.Id)]) # min, max, etc.\n",
    "# group by          db.select([db.func.sum(Student.columns.Id),Student.columns.Major]).group_by(Student.columns.Pass)\n",
    "# distinct          db.select([Student.columns.Major.distinct()])"
   ]
  },
  {
   "attachments": {},
   "cell_type": "markdown",
   "metadata": {},
   "source": [
    "### 2.4 Output to a Pandas Dataframe and CSV"
   ]
  },
  {
   "cell_type": "code",
   "execution_count": 106,
   "metadata": {},
   "outputs": [],
   "source": [
    "import pandas as pd"
   ]
  },
  {
   "cell_type": "code",
   "execution_count": 104,
   "metadata": {},
   "outputs": [],
   "source": [
    "# First execute the query we wish and get the results\n",
    "query = Student.select().where(Student.columns.Major.in_(['English','Math']))\n",
    "output = conn.execute(query)\n",
    "results = output.fetchall()"
   ]
  },
  {
   "cell_type": "code",
   "execution_count": 107,
   "metadata": {},
   "outputs": [
    {
     "data": {
      "text/html": [
       "<div>\n",
       "<style scoped>\n",
       "    .dataframe tbody tr th:only-of-type {\n",
       "        vertical-align: middle;\n",
       "    }\n",
       "\n",
       "    .dataframe tbody tr th {\n",
       "        vertical-align: top;\n",
       "    }\n",
       "\n",
       "    .dataframe thead th {\n",
       "        text-align: right;\n",
       "    }\n",
       "</style>\n",
       "<table border=\"1\" class=\"dataframe\">\n",
       "  <thead>\n",
       "    <tr style=\"text-align: right;\">\n",
       "      <th></th>\n",
       "      <th>Id</th>\n",
       "      <th>Name</th>\n",
       "      <th>Major</th>\n",
       "      <th>Pass</th>\n",
       "    </tr>\n",
       "  </thead>\n",
       "  <tbody>\n",
       "    <tr>\n",
       "      <th>0</th>\n",
       "      <td>1</td>\n",
       "      <td>Matthew</td>\n",
       "      <td>English</td>\n",
       "      <td>True</td>\n",
       "    </tr>\n",
       "    <tr>\n",
       "      <th>1</th>\n",
       "      <td>2</td>\n",
       "      <td>Matthew</td>\n",
       "      <td>English</td>\n",
       "      <td>True</td>\n",
       "    </tr>\n",
       "    <tr>\n",
       "      <th>2</th>\n",
       "      <td>3</td>\n",
       "      <td>Matthew</td>\n",
       "      <td>English</td>\n",
       "      <td>True</td>\n",
       "    </tr>\n",
       "    <tr>\n",
       "      <th>3</th>\n",
       "      <td>4</td>\n",
       "      <td>Matthew</td>\n",
       "      <td>English</td>\n",
       "      <td>True</td>\n",
       "    </tr>\n",
       "    <tr>\n",
       "      <th>4</th>\n",
       "      <td>5</td>\n",
       "      <td>Matthew</td>\n",
       "      <td>English</td>\n",
       "      <td>True</td>\n",
       "    </tr>\n",
       "    <tr>\n",
       "      <th>5</th>\n",
       "      <td>6</td>\n",
       "      <td>Matthew</td>\n",
       "      <td>English</td>\n",
       "      <td>True</td>\n",
       "    </tr>\n",
       "    <tr>\n",
       "      <th>6</th>\n",
       "      <td>7</td>\n",
       "      <td>Matthew</td>\n",
       "      <td>English</td>\n",
       "      <td>True</td>\n",
       "    </tr>\n",
       "    <tr>\n",
       "      <th>7</th>\n",
       "      <td>8</td>\n",
       "      <td>Matthew</td>\n",
       "      <td>English</td>\n",
       "      <td>True</td>\n",
       "    </tr>\n",
       "    <tr>\n",
       "      <th>8</th>\n",
       "      <td>9</td>\n",
       "      <td>Matthew</td>\n",
       "      <td>English</td>\n",
       "      <td>True</td>\n",
       "    </tr>\n",
       "    <tr>\n",
       "      <th>9</th>\n",
       "      <td>10</td>\n",
       "      <td>Matthew</td>\n",
       "      <td>English</td>\n",
       "      <td>True</td>\n",
       "    </tr>\n",
       "    <tr>\n",
       "      <th>10</th>\n",
       "      <td>11</td>\n",
       "      <td>Matthew</td>\n",
       "      <td>English</td>\n",
       "      <td>True</td>\n",
       "    </tr>\n",
       "    <tr>\n",
       "      <th>11</th>\n",
       "      <td>12</td>\n",
       "      <td>Matthew</td>\n",
       "      <td>English</td>\n",
       "      <td>True</td>\n",
       "    </tr>\n",
       "    <tr>\n",
       "      <th>12</th>\n",
       "      <td>13</td>\n",
       "      <td>Matthew</td>\n",
       "      <td>English</td>\n",
       "      <td>True</td>\n",
       "    </tr>\n",
       "    <tr>\n",
       "      <th>13</th>\n",
       "      <td>14</td>\n",
       "      <td>Matthew</td>\n",
       "      <td>English</td>\n",
       "      <td>True</td>\n",
       "    </tr>\n",
       "    <tr>\n",
       "      <th>14</th>\n",
       "      <td>15</td>\n",
       "      <td>Matthew</td>\n",
       "      <td>English</td>\n",
       "      <td>True</td>\n",
       "    </tr>\n",
       "    <tr>\n",
       "      <th>15</th>\n",
       "      <td>17</td>\n",
       "      <td>Natasha</td>\n",
       "      <td>Math</td>\n",
       "      <td>True</td>\n",
       "    </tr>\n",
       "    <tr>\n",
       "      <th>16</th>\n",
       "      <td>18</td>\n",
       "      <td>Ben</td>\n",
       "      <td>English</td>\n",
       "      <td>False</td>\n",
       "    </tr>\n",
       "    <tr>\n",
       "      <th>17</th>\n",
       "      <td>20</td>\n",
       "      <td>Natasha</td>\n",
       "      <td>Math</td>\n",
       "      <td>True</td>\n",
       "    </tr>\n",
       "    <tr>\n",
       "      <th>18</th>\n",
       "      <td>21</td>\n",
       "      <td>Ben</td>\n",
       "      <td>English</td>\n",
       "      <td>False</td>\n",
       "    </tr>\n",
       "  </tbody>\n",
       "</table>\n",
       "</div>"
      ],
      "text/plain": [
       "    Id     Name    Major   Pass\n",
       "0    1  Matthew  English   True\n",
       "1    2  Matthew  English   True\n",
       "2    3  Matthew  English   True\n",
       "3    4  Matthew  English   True\n",
       "4    5  Matthew  English   True\n",
       "5    6  Matthew  English   True\n",
       "6    7  Matthew  English   True\n",
       "7    8  Matthew  English   True\n",
       "8    9  Matthew  English   True\n",
       "9   10  Matthew  English   True\n",
       "10  11  Matthew  English   True\n",
       "11  12  Matthew  English   True\n",
       "12  13  Matthew  English   True\n",
       "13  14  Matthew  English   True\n",
       "14  15  Matthew  English   True\n",
       "15  17  Natasha     Math   True\n",
       "16  18      Ben  English  False\n",
       "17  20  Natasha     Math   True\n",
       "18  21      Ben  English  False"
      ]
     },
     "execution_count": 107,
     "metadata": {},
     "output_type": "execute_result"
    }
   ],
   "source": [
    "# Create a dataframe: pass the results, get the columns names\n",
    "data = pd.DataFrame(results)\n",
    "data.columns = results[0].keys()\n",
    "data"
   ]
  },
  {
   "cell_type": "markdown",
   "metadata": {},
   "source": []
  },
  {
   "cell_type": "code",
   "execution_count": 110,
   "metadata": {},
   "outputs": [],
   "source": [
    "# Dataframe -> CSV\n",
    "data.to_csv(\"student_result.csv\", index=False)"
   ]
  },
  {
   "attachments": {},
   "cell_type": "markdown",
   "metadata": {},
   "source": [
    "### 2.5 Input from CSV and Pandas"
   ]
  },
  {
   "cell_type": "code",
   "execution_count": 111,
   "metadata": {},
   "outputs": [],
   "source": [
    "# Create/connect database: if  no file, one is created\n",
    "engine = db.create_engine(\"sqlite:///stock.sqlite\")"
   ]
  },
  {
   "cell_type": "code",
   "execution_count": 112,
   "metadata": {},
   "outputs": [],
   "source": [
    "# Read CSV: another CSV file is loaded, one with stock prices\n",
    "df = pd.read_csv('stock_data.csv')\n",
    "# Convert to SQL table\n",
    "# `to_sql` function requires connection and table name as an argument.\n",
    "# You can also use `if_exisits` to replace an existing table \n",
    "# with the same name and `index` to drop the index column. \n",
    "df.to_sql(con=engine, name=\"Stock_price\", if_exists='replace', index=False)"
   ]
  },
  {
   "cell_type": "code",
   "execution_count": 114,
   "metadata": {},
   "outputs": [],
   "source": [
    "# To validate the results, we need to connect the database and create a table object.\n",
    "conn = engine.connect()\n",
    "metadata = db.MetaData()\n",
    "stock = db.Table('Stock_price', metadata, autoload=True, autoload_with=engine)"
   ]
  },
  {
   "cell_type": "code",
   "execution_count": 115,
   "metadata": {},
   "outputs": [
    {
     "name": "stdout",
     "output_type": "stream",
     "text": [
      "('HSI', '1986-12-31', 2568.300049, 2568.300049, 2568.300049, 2568.300049, 2568.300049, 0.0, 333.87900637)\n",
      "('HSI', '1987-01-02', 2540.100098, 2540.100098, 2540.100098, 2540.100098, 2540.100098, 0.0, 330.21301274)\n",
      "('HSI', '1987-01-05', 2552.399902, 2552.399902, 2552.399902, 2552.399902, 2552.399902, 0.0, 331.81198726)\n",
      "('HSI', '1987-01-06', 2583.899902, 2583.899902, 2583.899902, 2583.899902, 2583.899902, 0.0, 335.90698726000005)\n",
      "('HSI', '1987-01-07', 2607.100098, 2607.100098, 2607.100098, 2607.100098, 2607.100098, 0.0, 338.92301274)\n"
     ]
    }
   ],
   "source": [
    "# Check results with SELECT * query\n",
    "query = stock.select()\n",
    "exe = conn.execute(query)\n",
    "result = exe.fetchmany(5)\n",
    "for r in result:\n",
    "    print(r)"
   ]
  },
  {
   "attachments": {},
   "cell_type": "markdown",
   "metadata": {},
   "source": [
    "## 3. SQL Table Management"
   ]
  },
  {
   "cell_type": "code",
   "execution_count": 120,
   "metadata": {},
   "outputs": [
    {
     "name": "stdout",
     "output_type": "stream",
     "text": [
      "(1, 'Matthew', 'English', True)\n",
      "(2, 'Matthew', 'English', True)\n",
      "(3, 'Matthew', 'English', True)\n",
      "(4, 'Matthew', 'English', True)\n",
      "(5, 'Matthew', 'English', True)\n"
     ]
    }
   ],
   "source": [
    "# Connect to Students database, again\n",
    "engine = db.create_engine('sqlite:///students.sqlite')\n",
    "conn = engine.connect()\n",
    "metadata = db.MetaData()\n",
    "\n",
    "# We don't need to re-define the table, although we could do it\n",
    "# Instead, we can use autoload\n",
    "student = db.Table('Student',\n",
    "                   metadata,\n",
    "                   autoload=True,\n",
    "                   autoload_with=engine\n",
    "                   )\n",
    "\n",
    "# Check results with SELECT * query\n",
    "query = student.select()\n",
    "exe = conn.execute(query)\n",
    "result = exe.fetchmany(5)\n",
    "for r in result:\n",
    "    print(r)"
   ]
  },
  {
   "attachments": {},
   "cell_type": "markdown",
   "metadata": {},
   "source": [
    "### 3.1 Update and Delete Rows"
   ]
  },
  {
   "cell_type": "code",
   "execution_count": 122,
   "metadata": {},
   "outputs": [
    {
     "data": {
      "text/html": [
       "<div>\n",
       "<style scoped>\n",
       "    .dataframe tbody tr th:only-of-type {\n",
       "        vertical-align: middle;\n",
       "    }\n",
       "\n",
       "    .dataframe tbody tr th {\n",
       "        vertical-align: top;\n",
       "    }\n",
       "\n",
       "    .dataframe thead th {\n",
       "        text-align: right;\n",
       "    }\n",
       "</style>\n",
       "<table border=\"1\" class=\"dataframe\">\n",
       "  <thead>\n",
       "    <tr style=\"text-align: right;\">\n",
       "      <th></th>\n",
       "      <th>Id</th>\n",
       "      <th>Name</th>\n",
       "      <th>Major</th>\n",
       "      <th>Pass</th>\n",
       "    </tr>\n",
       "  </thead>\n",
       "  <tbody>\n",
       "    <tr>\n",
       "      <th>0</th>\n",
       "      <td>1</td>\n",
       "      <td>Matthew</td>\n",
       "      <td>English</td>\n",
       "      <td>True</td>\n",
       "    </tr>\n",
       "    <tr>\n",
       "      <th>1</th>\n",
       "      <td>2</td>\n",
       "      <td>Matthew</td>\n",
       "      <td>English</td>\n",
       "      <td>True</td>\n",
       "    </tr>\n",
       "    <tr>\n",
       "      <th>2</th>\n",
       "      <td>3</td>\n",
       "      <td>Matthew</td>\n",
       "      <td>English</td>\n",
       "      <td>True</td>\n",
       "    </tr>\n",
       "    <tr>\n",
       "      <th>3</th>\n",
       "      <td>4</td>\n",
       "      <td>Matthew</td>\n",
       "      <td>English</td>\n",
       "      <td>True</td>\n",
       "    </tr>\n",
       "    <tr>\n",
       "      <th>4</th>\n",
       "      <td>5</td>\n",
       "      <td>Matthew</td>\n",
       "      <td>English</td>\n",
       "      <td>True</td>\n",
       "    </tr>\n",
       "    <tr>\n",
       "      <th>5</th>\n",
       "      <td>6</td>\n",
       "      <td>Matthew</td>\n",
       "      <td>English</td>\n",
       "      <td>True</td>\n",
       "    </tr>\n",
       "    <tr>\n",
       "      <th>6</th>\n",
       "      <td>7</td>\n",
       "      <td>Matthew</td>\n",
       "      <td>English</td>\n",
       "      <td>True</td>\n",
       "    </tr>\n",
       "    <tr>\n",
       "      <th>7</th>\n",
       "      <td>8</td>\n",
       "      <td>Matthew</td>\n",
       "      <td>English</td>\n",
       "      <td>True</td>\n",
       "    </tr>\n",
       "    <tr>\n",
       "      <th>8</th>\n",
       "      <td>9</td>\n",
       "      <td>Matthew</td>\n",
       "      <td>English</td>\n",
       "      <td>True</td>\n",
       "    </tr>\n",
       "    <tr>\n",
       "      <th>9</th>\n",
       "      <td>10</td>\n",
       "      <td>Matthew</td>\n",
       "      <td>English</td>\n",
       "      <td>True</td>\n",
       "    </tr>\n",
       "    <tr>\n",
       "      <th>10</th>\n",
       "      <td>11</td>\n",
       "      <td>Matthew</td>\n",
       "      <td>English</td>\n",
       "      <td>True</td>\n",
       "    </tr>\n",
       "    <tr>\n",
       "      <th>11</th>\n",
       "      <td>12</td>\n",
       "      <td>Matthew</td>\n",
       "      <td>English</td>\n",
       "      <td>True</td>\n",
       "    </tr>\n",
       "    <tr>\n",
       "      <th>12</th>\n",
       "      <td>13</td>\n",
       "      <td>Matthew</td>\n",
       "      <td>English</td>\n",
       "      <td>True</td>\n",
       "    </tr>\n",
       "    <tr>\n",
       "      <th>13</th>\n",
       "      <td>14</td>\n",
       "      <td>Matthew</td>\n",
       "      <td>English</td>\n",
       "      <td>True</td>\n",
       "    </tr>\n",
       "    <tr>\n",
       "      <th>14</th>\n",
       "      <td>15</td>\n",
       "      <td>Matthew</td>\n",
       "      <td>English</td>\n",
       "      <td>True</td>\n",
       "    </tr>\n",
       "    <tr>\n",
       "      <th>15</th>\n",
       "      <td>16</td>\n",
       "      <td>Nisha</td>\n",
       "      <td>Science</td>\n",
       "      <td>True</td>\n",
       "    </tr>\n",
       "    <tr>\n",
       "      <th>16</th>\n",
       "      <td>17</td>\n",
       "      <td>Natasha</td>\n",
       "      <td>Math</td>\n",
       "      <td>True</td>\n",
       "    </tr>\n",
       "    <tr>\n",
       "      <th>17</th>\n",
       "      <td>18</td>\n",
       "      <td>Ben</td>\n",
       "      <td>English</td>\n",
       "      <td>False</td>\n",
       "    </tr>\n",
       "    <tr>\n",
       "      <th>18</th>\n",
       "      <td>19</td>\n",
       "      <td>Nisha</td>\n",
       "      <td>Science</td>\n",
       "      <td>True</td>\n",
       "    </tr>\n",
       "    <tr>\n",
       "      <th>19</th>\n",
       "      <td>20</td>\n",
       "      <td>Natasha</td>\n",
       "      <td>Math</td>\n",
       "      <td>True</td>\n",
       "    </tr>\n",
       "    <tr>\n",
       "      <th>20</th>\n",
       "      <td>21</td>\n",
       "      <td>Ben</td>\n",
       "      <td>English</td>\n",
       "      <td>False</td>\n",
       "    </tr>\n",
       "  </tbody>\n",
       "</table>\n",
       "</div>"
      ],
      "text/plain": [
       "    Id     Name    Major   Pass\n",
       "0    1  Matthew  English   True\n",
       "1    2  Matthew  English   True\n",
       "2    3  Matthew  English   True\n",
       "3    4  Matthew  English   True\n",
       "4    5  Matthew  English   True\n",
       "5    6  Matthew  English   True\n",
       "6    7  Matthew  English   True\n",
       "7    8  Matthew  English   True\n",
       "8    9  Matthew  English   True\n",
       "9   10  Matthew  English   True\n",
       "10  11  Matthew  English   True\n",
       "11  12  Matthew  English   True\n",
       "12  13  Matthew  English   True\n",
       "13  14  Matthew  English   True\n",
       "14  15  Matthew  English   True\n",
       "15  16    Nisha  Science   True\n",
       "16  17  Natasha     Math   True\n",
       "17  18      Ben  English  False\n",
       "18  19    Nisha  Science   True\n",
       "19  20  Natasha     Math   True\n",
       "20  21      Ben  English  False"
      ]
     },
     "execution_count": 122,
     "metadata": {},
     "output_type": "execute_result"
    }
   ],
   "source": [
    "# We can use a SQL statement to UPDATE rows\n",
    "# or we can do it via the SQLAlchemy API\n",
    "# Syntax:\n",
    "# table.update().values(column_1=1, column_2=4,...).where(table.columns.column_5 >= 5)\n",
    "query = student.update().values(Pass = True).where(student.columns.Name == \"Nisha\")\n",
    "results = conn.execute(query)\n",
    "\n",
    "# Check\n",
    "output = conn.execute(Student.select()).fetchall()\n",
    "data = pd.DataFrame(output)\n",
    "data.columns = output[0].keys()\n",
    "data"
   ]
  },
  {
   "cell_type": "code",
   "execution_count": 124,
   "metadata": {},
   "outputs": [
    {
     "data": {
      "text/html": [
       "<div>\n",
       "<style scoped>\n",
       "    .dataframe tbody tr th:only-of-type {\n",
       "        vertical-align: middle;\n",
       "    }\n",
       "\n",
       "    .dataframe tbody tr th {\n",
       "        vertical-align: top;\n",
       "    }\n",
       "\n",
       "    .dataframe thead th {\n",
       "        text-align: right;\n",
       "    }\n",
       "</style>\n",
       "<table border=\"1\" class=\"dataframe\">\n",
       "  <thead>\n",
       "    <tr style=\"text-align: right;\">\n",
       "      <th></th>\n",
       "      <th>Id</th>\n",
       "      <th>Name</th>\n",
       "      <th>Major</th>\n",
       "      <th>Pass</th>\n",
       "    </tr>\n",
       "  </thead>\n",
       "  <tbody>\n",
       "    <tr>\n",
       "      <th>0</th>\n",
       "      <td>1</td>\n",
       "      <td>Matthew</td>\n",
       "      <td>English</td>\n",
       "      <td>True</td>\n",
       "    </tr>\n",
       "    <tr>\n",
       "      <th>1</th>\n",
       "      <td>2</td>\n",
       "      <td>Matthew</td>\n",
       "      <td>English</td>\n",
       "      <td>True</td>\n",
       "    </tr>\n",
       "    <tr>\n",
       "      <th>2</th>\n",
       "      <td>3</td>\n",
       "      <td>Matthew</td>\n",
       "      <td>English</td>\n",
       "      <td>True</td>\n",
       "    </tr>\n",
       "    <tr>\n",
       "      <th>3</th>\n",
       "      <td>4</td>\n",
       "      <td>Matthew</td>\n",
       "      <td>English</td>\n",
       "      <td>True</td>\n",
       "    </tr>\n",
       "    <tr>\n",
       "      <th>4</th>\n",
       "      <td>5</td>\n",
       "      <td>Matthew</td>\n",
       "      <td>English</td>\n",
       "      <td>True</td>\n",
       "    </tr>\n",
       "    <tr>\n",
       "      <th>5</th>\n",
       "      <td>6</td>\n",
       "      <td>Matthew</td>\n",
       "      <td>English</td>\n",
       "      <td>True</td>\n",
       "    </tr>\n",
       "    <tr>\n",
       "      <th>6</th>\n",
       "      <td>7</td>\n",
       "      <td>Matthew</td>\n",
       "      <td>English</td>\n",
       "      <td>True</td>\n",
       "    </tr>\n",
       "    <tr>\n",
       "      <th>7</th>\n",
       "      <td>8</td>\n",
       "      <td>Matthew</td>\n",
       "      <td>English</td>\n",
       "      <td>True</td>\n",
       "    </tr>\n",
       "    <tr>\n",
       "      <th>8</th>\n",
       "      <td>9</td>\n",
       "      <td>Matthew</td>\n",
       "      <td>English</td>\n",
       "      <td>True</td>\n",
       "    </tr>\n",
       "    <tr>\n",
       "      <th>9</th>\n",
       "      <td>10</td>\n",
       "      <td>Matthew</td>\n",
       "      <td>English</td>\n",
       "      <td>True</td>\n",
       "    </tr>\n",
       "    <tr>\n",
       "      <th>10</th>\n",
       "      <td>11</td>\n",
       "      <td>Matthew</td>\n",
       "      <td>English</td>\n",
       "      <td>True</td>\n",
       "    </tr>\n",
       "    <tr>\n",
       "      <th>11</th>\n",
       "      <td>12</td>\n",
       "      <td>Matthew</td>\n",
       "      <td>English</td>\n",
       "      <td>True</td>\n",
       "    </tr>\n",
       "    <tr>\n",
       "      <th>12</th>\n",
       "      <td>13</td>\n",
       "      <td>Matthew</td>\n",
       "      <td>English</td>\n",
       "      <td>True</td>\n",
       "    </tr>\n",
       "    <tr>\n",
       "      <th>13</th>\n",
       "      <td>14</td>\n",
       "      <td>Matthew</td>\n",
       "      <td>English</td>\n",
       "      <td>True</td>\n",
       "    </tr>\n",
       "    <tr>\n",
       "      <th>14</th>\n",
       "      <td>15</td>\n",
       "      <td>Matthew</td>\n",
       "      <td>English</td>\n",
       "      <td>True</td>\n",
       "    </tr>\n",
       "    <tr>\n",
       "      <th>15</th>\n",
       "      <td>16</td>\n",
       "      <td>Nisha</td>\n",
       "      <td>Science</td>\n",
       "      <td>True</td>\n",
       "    </tr>\n",
       "    <tr>\n",
       "      <th>16</th>\n",
       "      <td>17</td>\n",
       "      <td>Natasha</td>\n",
       "      <td>Math</td>\n",
       "      <td>True</td>\n",
       "    </tr>\n",
       "    <tr>\n",
       "      <th>17</th>\n",
       "      <td>19</td>\n",
       "      <td>Nisha</td>\n",
       "      <td>Science</td>\n",
       "      <td>True</td>\n",
       "    </tr>\n",
       "    <tr>\n",
       "      <th>18</th>\n",
       "      <td>20</td>\n",
       "      <td>Natasha</td>\n",
       "      <td>Math</td>\n",
       "      <td>True</td>\n",
       "    </tr>\n",
       "  </tbody>\n",
       "</table>\n",
       "</div>"
      ],
      "text/plain": [
       "    Id     Name    Major  Pass\n",
       "0    1  Matthew  English  True\n",
       "1    2  Matthew  English  True\n",
       "2    3  Matthew  English  True\n",
       "3    4  Matthew  English  True\n",
       "4    5  Matthew  English  True\n",
       "5    6  Matthew  English  True\n",
       "6    7  Matthew  English  True\n",
       "7    8  Matthew  English  True\n",
       "8    9  Matthew  English  True\n",
       "9   10  Matthew  English  True\n",
       "10  11  Matthew  English  True\n",
       "11  12  Matthew  English  True\n",
       "12  13  Matthew  English  True\n",
       "13  14  Matthew  English  True\n",
       "14  15  Matthew  English  True\n",
       "15  16    Nisha  Science  True\n",
       "16  17  Natasha     Math  True\n",
       "17  19    Nisha  Science  True\n",
       "18  20  Natasha     Math  True"
      ]
     },
     "execution_count": 124,
     "metadata": {},
     "output_type": "execute_result"
    }
   ],
   "source": [
    "# Delete has a similar syntax\n",
    "# table.delete().where(table.columns.column_1 == 6)\n",
    "query = Student.delete().where(Student.columns.Name == \"Ben\")\n",
    "results = conn.execute(query)\n",
    "\n",
    "# Check\n",
    "output = conn.execute(Student.select()).fetchall()\n",
    "data = pd.DataFrame(output)\n",
    "data.columns = output[0].keys()\n",
    "data"
   ]
  },
  {
   "attachments": {},
   "cell_type": "markdown",
   "metadata": {},
   "source": [
    "### 3.2 Dropping Tables"
   ]
  },
  {
   "cell_type": "code",
   "execution_count": 130,
   "metadata": {},
   "outputs": [],
   "source": [
    "# First, we need to close all queries!\n",
    "# Otherwise, we get the error that the database is locked\n",
    "results.close()\n",
    "exe.close()\n",
    "# Then, we can drop the desired tables; if none specified, all dropped: metadata.drop_all(engine)\n",
    "metadata.drop_all(engine, [student], checkfirst=True)"
   ]
  },
  {
   "attachments": {},
   "cell_type": "markdown",
   "metadata": {},
   "source": [
    "### 3.3 Complex Queries with SQLAlchemy: Joining Tables and Filtering"
   ]
  },
  {
   "cell_type": "code",
   "execution_count": 133,
   "metadata": {},
   "outputs": [],
   "source": [
    "# Connect to database\n",
    "engine = db.create_engine(\"sqlite:///european_database.sqlite\")\n",
    "conn = engine.connect()\n",
    "metadata = db.MetaData()\n",
    "division = db.Table('divisions', metadata, autoload=True, autoload_with=engine)\n",
    "match = db.Table('matchs', metadata, autoload=True, autoload_with=engine)"
   ]
  },
  {
   "cell_type": "code",
   "execution_count": 134,
   "metadata": {},
   "outputs": [
    {
     "data": {
      "text/html": [
       "<div>\n",
       "<style scoped>\n",
       "    .dataframe tbody tr th:only-of-type {\n",
       "        vertical-align: middle;\n",
       "    }\n",
       "\n",
       "    .dataframe tbody tr th {\n",
       "        vertical-align: top;\n",
       "    }\n",
       "\n",
       "    .dataframe thead th {\n",
       "        text-align: right;\n",
       "    }\n",
       "</style>\n",
       "<table border=\"1\" class=\"dataframe\">\n",
       "  <thead>\n",
       "    <tr style=\"text-align: right;\">\n",
       "      <th></th>\n",
       "      <th>division</th>\n",
       "      <th>name</th>\n",
       "      <th>country</th>\n",
       "      <th>Div</th>\n",
       "      <th>Date</th>\n",
       "      <th>HomeTeam</th>\n",
       "      <th>AwayTeam</th>\n",
       "      <th>FTHG</th>\n",
       "      <th>FTAG</th>\n",
       "      <th>FTR</th>\n",
       "      <th>season</th>\n",
       "    </tr>\n",
       "  </thead>\n",
       "  <tbody>\n",
       "    <tr>\n",
       "      <th>0</th>\n",
       "      <td>E1</td>\n",
       "      <td>EFL Championship</td>\n",
       "      <td>England</td>\n",
       "      <td>E1</td>\n",
       "      <td>2008-08-16</td>\n",
       "      <td>Barnsley</td>\n",
       "      <td>Coventry</td>\n",
       "      <td>1.0</td>\n",
       "      <td>2.0</td>\n",
       "      <td>A</td>\n",
       "      <td>2009</td>\n",
       "    </tr>\n",
       "    <tr>\n",
       "      <th>1</th>\n",
       "      <td>E1</td>\n",
       "      <td>EFL Championship</td>\n",
       "      <td>England</td>\n",
       "      <td>E1</td>\n",
       "      <td>2008-08-30</td>\n",
       "      <td>Barnsley</td>\n",
       "      <td>Derby</td>\n",
       "      <td>2.0</td>\n",
       "      <td>0.0</td>\n",
       "      <td>H</td>\n",
       "      <td>2009</td>\n",
       "    </tr>\n",
       "    <tr>\n",
       "      <th>2</th>\n",
       "      <td>E1</td>\n",
       "      <td>EFL Championship</td>\n",
       "      <td>England</td>\n",
       "      <td>E1</td>\n",
       "      <td>2008-09-16</td>\n",
       "      <td>Barnsley</td>\n",
       "      <td>Cardiff</td>\n",
       "      <td>0.0</td>\n",
       "      <td>1.0</td>\n",
       "      <td>A</td>\n",
       "      <td>2009</td>\n",
       "    </tr>\n",
       "    <tr>\n",
       "      <th>3</th>\n",
       "      <td>E1</td>\n",
       "      <td>EFL Championship</td>\n",
       "      <td>England</td>\n",
       "      <td>E1</td>\n",
       "      <td>2008-09-27</td>\n",
       "      <td>Barnsley</td>\n",
       "      <td>Norwich</td>\n",
       "      <td>0.0</td>\n",
       "      <td>0.0</td>\n",
       "      <td>D</td>\n",
       "      <td>2009</td>\n",
       "    </tr>\n",
       "    <tr>\n",
       "      <th>4</th>\n",
       "      <td>E1</td>\n",
       "      <td>EFL Championship</td>\n",
       "      <td>England</td>\n",
       "      <td>E1</td>\n",
       "      <td>2008-10-04</td>\n",
       "      <td>Barnsley</td>\n",
       "      <td>Doncaster</td>\n",
       "      <td>4.0</td>\n",
       "      <td>1.0</td>\n",
       "      <td>H</td>\n",
       "      <td>2009</td>\n",
       "    </tr>\n",
       "    <tr>\n",
       "      <th>...</th>\n",
       "      <td>...</td>\n",
       "      <td>...</td>\n",
       "      <td>...</td>\n",
       "      <td>...</td>\n",
       "      <td>...</td>\n",
       "      <td>...</td>\n",
       "      <td>...</td>\n",
       "      <td>...</td>\n",
       "      <td>...</td>\n",
       "      <td>...</td>\n",
       "      <td>...</td>\n",
       "    </tr>\n",
       "    <tr>\n",
       "      <th>547</th>\n",
       "      <td>E1</td>\n",
       "      <td>EFL Championship</td>\n",
       "      <td>England</td>\n",
       "      <td>E1</td>\n",
       "      <td>2009-03-10</td>\n",
       "      <td>Wolves</td>\n",
       "      <td>Ipswich</td>\n",
       "      <td>0.0</td>\n",
       "      <td>0.0</td>\n",
       "      <td>D</td>\n",
       "      <td>2009</td>\n",
       "    </tr>\n",
       "    <tr>\n",
       "      <th>548</th>\n",
       "      <td>E1</td>\n",
       "      <td>EFL Championship</td>\n",
       "      <td>England</td>\n",
       "      <td>E1</td>\n",
       "      <td>2009-03-14</td>\n",
       "      <td>Wolves</td>\n",
       "      <td>Charlton</td>\n",
       "      <td>2.0</td>\n",
       "      <td>1.0</td>\n",
       "      <td>H</td>\n",
       "      <td>2009</td>\n",
       "    </tr>\n",
       "    <tr>\n",
       "      <th>549</th>\n",
       "      <td>E1</td>\n",
       "      <td>EFL Championship</td>\n",
       "      <td>England</td>\n",
       "      <td>E1</td>\n",
       "      <td>2009-04-10</td>\n",
       "      <td>Wolves</td>\n",
       "      <td>Southampton</td>\n",
       "      <td>3.0</td>\n",
       "      <td>0.0</td>\n",
       "      <td>H</td>\n",
       "      <td>2009</td>\n",
       "    </tr>\n",
       "    <tr>\n",
       "      <th>550</th>\n",
       "      <td>E1</td>\n",
       "      <td>EFL Championship</td>\n",
       "      <td>England</td>\n",
       "      <td>E1</td>\n",
       "      <td>2009-04-18</td>\n",
       "      <td>Wolves</td>\n",
       "      <td>QPR</td>\n",
       "      <td>1.0</td>\n",
       "      <td>0.0</td>\n",
       "      <td>H</td>\n",
       "      <td>2009</td>\n",
       "    </tr>\n",
       "    <tr>\n",
       "      <th>551</th>\n",
       "      <td>E1</td>\n",
       "      <td>EFL Championship</td>\n",
       "      <td>England</td>\n",
       "      <td>E1</td>\n",
       "      <td>2009-05-03</td>\n",
       "      <td>Wolves</td>\n",
       "      <td>Doncaster</td>\n",
       "      <td>1.0</td>\n",
       "      <td>0.0</td>\n",
       "      <td>H</td>\n",
       "      <td>2009</td>\n",
       "    </tr>\n",
       "  </tbody>\n",
       "</table>\n",
       "<p>552 rows × 11 columns</p>\n",
       "</div>"
      ],
      "text/plain": [
       "    division              name  country Div        Date  HomeTeam  \\\n",
       "0         E1  EFL Championship  England  E1  2008-08-16  Barnsley   \n",
       "1         E1  EFL Championship  England  E1  2008-08-30  Barnsley   \n",
       "2         E1  EFL Championship  England  E1  2008-09-16  Barnsley   \n",
       "3         E1  EFL Championship  England  E1  2008-09-27  Barnsley   \n",
       "4         E1  EFL Championship  England  E1  2008-10-04  Barnsley   \n",
       "..       ...               ...      ...  ..         ...       ...   \n",
       "547       E1  EFL Championship  England  E1  2009-03-10    Wolves   \n",
       "548       E1  EFL Championship  England  E1  2009-03-14    Wolves   \n",
       "549       E1  EFL Championship  England  E1  2009-04-10    Wolves   \n",
       "550       E1  EFL Championship  England  E1  2009-04-18    Wolves   \n",
       "551       E1  EFL Championship  England  E1  2009-05-03    Wolves   \n",
       "\n",
       "        AwayTeam  FTHG  FTAG FTR  season  \n",
       "0       Coventry   1.0   2.0   A    2009  \n",
       "1          Derby   2.0   0.0   H    2009  \n",
       "2        Cardiff   0.0   1.0   A    2009  \n",
       "3        Norwich   0.0   0.0   D    2009  \n",
       "4      Doncaster   4.0   1.0   H    2009  \n",
       "..           ...   ...   ...  ..     ...  \n",
       "547      Ipswich   0.0   0.0   D    2009  \n",
       "548     Charlton   2.0   1.0   H    2009  \n",
       "549  Southampton   3.0   0.0   H    2009  \n",
       "550          QPR   1.0   0.0   H    2009  \n",
       "551    Doncaster   1.0   0.0   H    2009  \n",
       "\n",
       "[552 rows x 11 columns]"
      ]
     },
     "execution_count": 134,
     "metadata": {},
     "output_type": "execute_result"
    }
   ],
   "source": [
    "# Running complex queries - Example:\n",
    "# 1. We will select both division and match columns.\n",
    "# 2. Join them using a common column: division.division and match.Div.\n",
    "# 3. Select all columns where the division is E1 and the season is 2009.\n",
    "# 4. Order the result by HomeTeam.\n",
    "query = db.select([division,match]).\\\n",
    "            select_from(division.join(match,division.columns.division == match.columns.Div)).\\\n",
    "            where(db.and_(division.columns.division == \"E1\", match.columns.season == 2009 )).\\\n",
    "            order_by(match.columns.HomeTeam)\n",
    "output = conn.execute(query)\n",
    "results = output.fetchall()\n",
    "\n",
    "data = pd.DataFrame(results)\n",
    "data.columns = results[0].keys()\n",
    "data"
   ]
  },
  {
   "cell_type": "markdown",
   "metadata": {},
   "source": []
  }
 ],
 "metadata": {
  "kernelspec": {
   "display_name": "ds",
   "language": "python",
   "name": "python3"
  },
  "language_info": {
   "codemirror_mode": {
    "name": "ipython",
    "version": 3
   },
   "file_extension": ".py",
   "mimetype": "text/x-python",
   "name": "python",
   "nbconvert_exporter": "python",
   "pygments_lexer": "ipython3",
   "version": "3.7.13"
  },
  "orig_nbformat": 4,
  "vscode": {
   "interpreter": {
    "hash": "44f215830cc7ae75a729442ec62fdf094e5e42661312cf24361381e07b426257"
   }
  }
 },
 "nbformat": 4,
 "nbformat_minor": 2
}
