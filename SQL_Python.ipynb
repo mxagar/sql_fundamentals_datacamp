{
 "cells": [
  {
   "cell_type": "markdown",
   "id": "4c537105-7295-4318-a682-da42062ddb43",
   "metadata": {},
   "source": [
    "# SQL with Python"
   ]
  },
  {
   "cell_type": "markdown",
   "id": "657d4b67-1062-45b7-9d72-42d339349c8a",
   "metadata": {},
   "source": [
    "We can connect and interact with relational databases using SQL via python by using the python library `psycopg2`.\n",
    "\n",
    "First, we need to install it:\n",
    "\n",
    "```bash\n",
    "brew install libpq\n",
    "# I had issues with the current version 2.9.3 on my Mac M1\n",
    "# pip install psycopg2\n",
    "# So after googling, I installed a previous version\n",
    "pip install psycopg2-binary==2.9.2\n",
    "````\n",
    "\n",
    "Then, we follow these simple steps:\n",
    "1. We connect to the SQL server with the database name, our username and password.\n",
    "2. We execute the SQL query passing it as a string.\n",
    "3. We fetch the results as a list of tuples, being each tuple a row.\n",
    "4. If we changed anything in the database and we want to keep it, we need to `commit()`.\n",
    "5. When we are finished, always disconnect from the server/database.\n",
    "\n",
    "For more information, look at the [psycopg2 documentation](https://www.psycopg.org/docs/)."
   ]
  },
  {
   "cell_type": "code",
   "execution_count": 66,
   "id": "bd7a9ffa-c8b5-47bb-aa7e-c189e2344281",
   "metadata": {},
   "outputs": [],
   "source": [
    "import psycopg2 as pg2"
   ]
  },
  {
   "cell_type": "code",
   "execution_count": 67,
   "id": "c068801f-46d5-4869-93c0-53ae01d22502",
   "metadata": {},
   "outputs": [],
   "source": [
    "# Get PostgreSQL server password, stored in a TXT\n",
    "# Make sure the PW is not uploaded to Github\n",
    "# and try encrypting it\n",
    "# This way is not the most secure one, though\n",
    "lines = []\n",
    "with open('secret.txt') as f:\n",
    "    lines = f.readlines()\n",
    "pw = str(lines[0]).split('\\n')[0]"
   ]
  },
  {
   "cell_type": "code",
   "execution_count": 68,
   "id": "56649c4f-5713-45a9-92d7-af9eb74cc38d",
   "metadata": {},
   "outputs": [],
   "source": [
    "# Connect to the database\n",
    "# user: by default it's postgres, but maybe we have chosen another one\n",
    "# password: the one we introduced for the PostgreSQL server\n",
    "conn = pg2.connect(database='dvdrental',\n",
    "                   user='postgres',\n",
    "                   password=pw)"
   ]
  },
  {
   "cell_type": "code",
   "execution_count": 69,
   "id": "7d6ba716-76d2-4fe3-9db6-3b90a47a5bb7",
   "metadata": {},
   "outputs": [],
   "source": [
    "# Retrieve the cursor: \n",
    "# this is like a pointer to the place in the database\n",
    "# the server is in\n",
    "cur = conn.cursor()"
   ]
  },
  {
   "cell_type": "code",
   "execution_count": 70,
   "id": "7ba2ea68-b301-419d-aad3-5db567b9fc87",
   "metadata": {},
   "outputs": [],
   "source": [
    "# Execute the SQL statement/query we want passed as a string\n",
    "# Advice: don't automatize too much the generation of the query_string\n",
    "# because we might unwillingly break the database, e.g., by removing tables\n",
    "query_string = 'SELECT * FROM payment'\n",
    "cur.execute(query_string)"
   ]
  },
  {
   "cell_type": "code",
   "execution_count": 71,
   "id": "dda83855-0a6d-46cc-ac06-7b0a3466e0aa",
   "metadata": {},
   "outputs": [
    {
     "data": {
      "text/plain": [
       "(17503,\n",
       " 341,\n",
       " 2,\n",
       " 1520,\n",
       " Decimal('7.99'),\n",
       " datetime.datetime(2007, 2, 15, 22, 25, 46, 996577))"
      ]
     },
     "execution_count": 71,
     "metadata": {},
     "output_type": "execute_result"
    }
   ],
   "source": [
    "# Now, the cursor object has the result of the query,\n",
    "# which can be accessed via:\n",
    "# - fetchall() # all rows returned in a list of tuples\n",
    "# - fetchmany(n) # the first n rows returned in a list of tuples\n",
    "# - fetone() # the first row returned as a tuple\n",
    "# Important: once we fo fetch*, the returned row entries are removed from cur!\n",
    "# Note that date columns are transformed to python datetime, for our convnience\n",
    "cur.fetchone()"
   ]
  },
  {
   "cell_type": "code",
   "execution_count": 72,
   "id": "24128709-d630-4e51-b491-9f76978017e7",
   "metadata": {},
   "outputs": [
    {
     "data": {
      "text/plain": [
       "[(17504,\n",
       "  341,\n",
       "  1,\n",
       "  1778,\n",
       "  Decimal('1.99'),\n",
       "  datetime.datetime(2007, 2, 16, 17, 23, 14, 996577)),\n",
       " (17505,\n",
       "  341,\n",
       "  1,\n",
       "  1849,\n",
       "  Decimal('7.99'),\n",
       "  datetime.datetime(2007, 2, 16, 22, 41, 45, 996577)),\n",
       " (17506,\n",
       "  341,\n",
       "  2,\n",
       "  2829,\n",
       "  Decimal('2.99'),\n",
       "  datetime.datetime(2007, 2, 19, 19, 39, 56, 996577))]"
      ]
     },
     "execution_count": 72,
     "metadata": {},
     "output_type": "execute_result"
    }
   ],
   "source": [
    "cur.fetchmany(3)"
   ]
  },
  {
   "cell_type": "code",
   "execution_count": 73,
   "id": "06e2c91f-f3b7-4d7f-b77f-863786cf7653",
   "metadata": {},
   "outputs": [],
   "source": [
    "# All rows of the result fetched into a list of tuples\n",
    "# Each tuple is a row\n",
    "# We can carry out tuple unpacking\n",
    "payments = cur.fetchall()"
   ]
  },
  {
   "cell_type": "code",
   "execution_count": 74,
   "id": "42f55fd5-3537-48e7-b493-89badec56c29",
   "metadata": {},
   "outputs": [
    {
     "data": {
      "text/plain": [
       "14592"
      ]
     },
     "execution_count": 74,
     "metadata": {},
     "output_type": "execute_result"
    }
   ],
   "source": [
    "# Count all entries/rows\n",
    "len(payments)"
   ]
  },
  {
   "cell_type": "code",
   "execution_count": 75,
   "id": "b23d776f-e86e-4333-9c62-c2325aaf7f8c",
   "metadata": {},
   "outputs": [
    {
     "data": {
      "text/plain": [
       "(17507,\n",
       " 341,\n",
       " 2,\n",
       " 3130,\n",
       " Decimal('7.99'),\n",
       " datetime.datetime(2007, 2, 20, 17, 31, 48, 996577))"
      ]
     },
     "execution_count": 75,
     "metadata": {},
     "output_type": "execute_result"
    }
   ],
   "source": [
    "# First row tuple\n",
    "payments[0]"
   ]
  },
  {
   "cell_type": "code",
   "execution_count": 76,
   "id": "8dad63ca-f328-4f97-9bbf-b7ef6557ab28",
   "metadata": {},
   "outputs": [
    {
     "data": {
      "text/plain": [
       "Decimal('7.99')"
      ]
     },
     "execution_count": 76,
     "metadata": {},
     "output_type": "execute_result"
    }
   ],
   "source": [
    "# 5th value in tuple of first row\n",
    "payments[0][4]"
   ]
  },
  {
   "cell_type": "code",
   "execution_count": 77,
   "id": "25810bc4-7e0f-4dd5-ae21-966ff93ceda1",
   "metadata": {},
   "outputs": [],
   "source": [
    "# Close the connection\n",
    "conn.close()"
   ]
  },
  {
   "cell_type": "markdown",
   "id": "ccf65db2-b6b9-4970-89f6-d19a60bb450e",
   "metadata": {},
   "source": [
    "### Inserting Information"
   ]
  },
  {
   "cell_type": "markdown",
   "id": "60424aa8-766b-4d49-a081-4cfef6c96897",
   "metadata": {},
   "source": [
    "If we change the database, we need to `commit()` if we want them persistent!"
   ]
  },
  {
   "cell_type": "code",
   "execution_count": 78,
   "id": "a36e1e5a-8caa-42d1-9cc2-eb31d2e3bc28",
   "metadata": {},
   "outputs": [],
   "source": [
    "query_str = '''\n",
    "            CREATE TABLE new_table (\n",
    "                userid integer\n",
    "                , tmstmp timestamp\n",
    "                , type varchar(10)\n",
    "            );\n",
    "            '''"
   ]
  },
  {
   "cell_type": "code",
   "execution_count": null,
   "id": "a542cbc1-6814-45a5-ad01-2a205a0adc37",
   "metadata": {},
   "outputs": [],
   "source": [
    "# Execute, as before\n",
    "cur.execute(query)"
   ]
  },
  {
   "cell_type": "code",
   "execution_count": null,
   "id": "ae43afe2-c510-46ce-b8f4-a18eaab492aa",
   "metadata": {},
   "outputs": [],
   "source": [
    "# We need to commit the changes to make them persistent\n",
    "cur.commit()"
   ]
  },
  {
   "cell_type": "code",
   "execution_count": null,
   "id": "9dc90a8f-b320-4950-a39c-1ec48589c414",
   "metadata": {},
   "outputs": [],
   "source": []
  }
 ],
 "metadata": {
  "kernelspec": {
   "display_name": "Python 3 (ipykernel)",
   "language": "python",
   "name": "python3"
  },
  "language_info": {
   "codemirror_mode": {
    "name": "ipython",
    "version": 3
   },
   "file_extension": ".py",
   "mimetype": "text/x-python",
   "name": "python",
   "nbconvert_exporter": "python",
   "pygments_lexer": "ipython3",
   "version": "3.7.11"
  }
 },
 "nbformat": 4,
 "nbformat_minor": 5
}
